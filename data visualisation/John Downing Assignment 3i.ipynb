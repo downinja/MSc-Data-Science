{
 "cells": [
  {
   "cell_type": "markdown",
   "metadata": {},
   "source": [
    "# Data Loading, and initial pre-processing\n",
    "\n",
    "This notebook was used to load the initial CSV data into Pandas, to make some initial corrections (as detailed in the report, and commented below) and also to derive some additional variables based on the rate data provided by TFL."
   ]
  },
  {
   "cell_type": "code",
   "execution_count": 1,
   "metadata": {
    "collapsed": true
   },
   "outputs": [],
   "source": [
    "# Imports and directives\n",
    "import calendar\n",
    "import math\n",
    "import numpy as np\n",
    "import pandas as pd\n",
    "import sys\n",
    "from datetime import datetime"
   ]
  },
  {
   "cell_type": "code",
   "execution_count": 2,
   "metadata": {
    "collapsed": false
   },
   "outputs": [
    {
     "name": "stdout",
     "output_type": "stream",
     "text": [
      "Developed with the following library versions:\n",
      "Python:\t\t\u001b[34m2.7.11 |Anaconda 4.0.0 (64-bit)| (default, Feb 16 2016, 09:58:36) [MSC v.1500 64 bit (AMD64)]\u001b[0m\n",
      "Pandas:\t\t\u001b[34m0.18.0\u001b[0m\n"
     ]
    }
   ],
   "source": [
    "# Library versions, for info\n",
    "print ('Developed with the following library versions:')\n",
    "print ('Python:\\t\\t\\x1b[34m%s\\x1b[0m' % (sys.version))\n",
    "print ('Pandas:\\t\\t\\x1b[34m%s\\x1b[0m' % (pd.__version__))"
   ]
  },
  {
   "cell_type": "code",
   "execution_count": 72,
   "metadata": {
    "collapsed": false
   },
   "outputs": [
    {
     "data": {
      "text/plain": [
       "datetime.datetime(2017, 1, 19, 20, 30, 26, 737000)"
      ]
     },
     "execution_count": 72,
     "metadata": {},
     "output_type": "execute_result"
    }
   ],
   "source": [
    "# Date last worked on\n",
    "datetime.now()"
   ]
  },
  {
   "cell_type": "code",
   "execution_count": 3,
   "metadata": {
    "collapsed": false
   },
   "outputs": [],
   "source": [
    "# Top level declarations\n",
    "journeys_data_file = 'D:\\\\cyclehire\\\\JourneyData2016.csv'\n",
    "stations_data_file = 'D:\\\\cyclehire\\\\stations.csv'\n",
    "rad = math.pi / 180\n",
    "R = 6378.145"
   ]
  },
  {
   "cell_type": "code",
   "execution_count": 9,
   "metadata": {
    "collapsed": false,
    "scrolled": true
   },
   "outputs": [
    {
     "name": "stdout",
     "output_type": "stream",
     "text": [
      "shape: (9454907, 6)\n",
      "dtypes:\n",
      "RentalId            int32\n",
      "Duration          float64\n",
      "BikeId              int32\n",
      "EndStationId      float64\n",
      "StartDateTime       int64\n",
      "StartStationId      int32\n",
      "dtype: object\n"
     ]
    }
   ],
   "source": [
    "# Only reading the columns we care about, for simplicity\n",
    "journeys_cols = [0,1,2,4,6,7]\n",
    "\n",
    "journeys_names = [\n",
    "    'RentalId',\n",
    "    'Duration',\n",
    "    'BikeId',\n",
    "    'EndStationId',\n",
    "    'StartDateTime',\n",
    "    'StartStationId'\n",
    "]\n",
    "\n",
    "# Dict of data types to pass into read_csv\n",
    "journeys_dtype = {\n",
    "    'RentalId': int,\n",
    "    'Duration': float, #to handle NAs\n",
    "    'BikeId': int,\n",
    "    'EndStationId': float, #to handle NAs\n",
    "    'StartDateTime': int,\n",
    "    'StartStationId': int\n",
    "}\n",
    "\n",
    "# Convert date strings to epoch (sort of) values.\n",
    "# Note that dates are specified in the TFL data as BST, which leads \n",
    "# to some oddities e.g. a record immediately after the October\n",
    "# date roll will have a smaller timestamp than one immediately \n",
    "# before it. We could try and correct for this, but really we're\n",
    "# only using timestamps for efficiency (to avoid using Python\n",
    "# objects) - and since we're only ever going to be interested in \n",
    "# what the local time was, it doesn't really matter. That is,\n",
    "# on 30th October 2016, 01:59 really was 01:59, locally; and \n",
    "# so was 01:01 - even though the latter came after the former!\n",
    "def timestampConverter(datestring):\n",
    "    dateobj = datetime.strptime(datestring, '%d/%m/%Y %H:%M')\n",
    "    return calendar.timegm(dateobj.utctimetuple())\n",
    "\n",
    "# dict of converters to pass into read_csv\n",
    "journeys_converters = {\n",
    "    'StartDateTime' : timestampConverter\n",
    "}\n",
    "\n",
    "# Read the file\n",
    "journeys = pd.read_csv(\n",
    "    journeys_data_file,\n",
    "    header = 0,\n",
    "    names = journeys_names,\n",
    "    usecols = journeys_cols, \n",
    "    converters = journeys_converters,\n",
    "    dtype = journeys_dtype\n",
    ")\n",
    "\n",
    "# Sanity check\n",
    "print ('shape: %s' % (str(journeys.shape)))\n",
    "print ('dtypes:\\n%s' % (str(journeys.dtypes)))"
   ]
  },
  {
   "cell_type": "code",
   "execution_count": 13,
   "metadata": {
    "collapsed": false
   },
   "outputs": [],
   "source": [
    "# Correct duff data due to DST changes. The list below came from manual inspection of\n",
    "# the raw data around the 30th March DST change (clocks going forward). It should be\n",
    "# possible to do this programatically (e.g. look for journeys which begin/end either\n",
    "# side of 1am on 27th March) but since there were so few of them it was quicker (and\n",
    "# safer) to do it manually. \n",
    "incorrectRentalIds = [\n",
    "    52440126,\n",
    "    52440127,\n",
    "    52440128,\n",
    "    52440130,\n",
    "    52440131,\n",
    "    52440132,\n",
    "    52440133,\n",
    "    52440134,\n",
    "    52440135,\n",
    "    52440136,\n",
    "    52440137,\n",
    "    52440138,\n",
    "    52440139,\n",
    "    52440140,\n",
    "    52440141,\n",
    "    52440142\n",
    "]\n",
    "\n",
    "def correctDstDurations(journey):\n",
    "    duration = journey.Duration\n",
    "    if journey.RentalId in incorrectRentalIds:\n",
    "        # Needs fixing due to March DST change\n",
    "        duration = duration - 3600\n",
    "    # Else needs fixing for October DST change if duration -ve\n",
    "    return duration+3600 if duration < 0 else duration\n",
    "\n",
    "journeys['Duration'] = journeys.apply(correctDstDurations, axis=1)"
   ]
  },
  {
   "cell_type": "code",
   "execution_count": 24,
   "metadata": {
    "collapsed": false
   },
   "outputs": [],
   "source": [
    "# Prob bit inefficient (could probably do all in one go), but..\n",
    "journeys['HourOfDay'] = journeys.StartDateTime.apply(lambda x : datetime.fromtimestamp(x).hour)\n",
    "journeys['MonthOfYear'] = journeys.StartDateTime.apply(lambda x : datetime.fromtimestamp(x).month)\n",
    "journeys['DayOfWeek'] = journeys.StartDateTime.apply(lambda x : datetime.fromtimestamp(x).isoweekday())\n",
    "journeys['DayOfYear'] = journeys.StartDateTime.apply(lambda x : int(format(datetime.fromtimestamp(x), '%j')))"
   ]
  },
  {
   "cell_type": "code",
   "execution_count": 25,
   "metadata": {
    "collapsed": true
   },
   "outputs": [],
   "source": [
    "# Using ints - otherwise takes too long to parse strings\n",
    "def inferJourneyType(journey):\n",
    "    if math.isnan(journey.EndStationId):\n",
    "        return 0 # Unknown\n",
    "    elif journey.StartStationId == journey.EndStationId:\n",
    "        return 2 # Circular\n",
    "    else:\n",
    "        return 1 # Regular\n",
    "    \n",
    "journeys[\"JourneyType\"] = journeys.apply(inferJourneyType, axis=1)"
   ]
  },
  {
   "cell_type": "code",
   "execution_count": 26,
   "metadata": {
    "collapsed": true
   },
   "outputs": [],
   "source": [
    "# Using ints - otherwise takes too long to parse strings\n",
    "def inferSeason(journey):\n",
    "    monthOfYear = journey.MonthOfYear\n",
    "    if monthOfYear in [12,1,2]:\n",
    "        return 1 # Winter\n",
    "    elif monthOfYear in [3,4,5]:\n",
    "        return 2 # Spring\n",
    "    elif monthOfYear in [6,7,8]:\n",
    "        return 3 # Summer\n",
    "    else:\n",
    "        return 4 # Autumn\n",
    "    \n",
    "journeys[\"Season\"] = journeys.apply(inferSeason, axis=1)"
   ]
  },
  {
   "cell_type": "code",
   "execution_count": 27,
   "metadata": {
    "collapsed": false
   },
   "outputs": [
    {
     "name": "stdout",
     "output_type": "stream",
     "text": [
      "shape: (787, 3)\n",
      "dtypes:\n",
      "id        int64\n",
      "lat     float64\n",
      "long    float64\n",
      "dtype: object\n"
     ]
    }
   ],
   "source": [
    "# Read in the docking stations data. \n",
    "# Only care about latitude/longitude values.\n",
    "stations_cols = [\n",
    "    'id',\n",
    "    'lat',\n",
    "    'long'\n",
    "]\n",
    "\n",
    "stations = pd.read_csv(\n",
    "    stations_data_file,\n",
    "    usecols = stations_cols\n",
    ")\n",
    "\n",
    "print ('shape: %s' % (str(stations.shape)))\n",
    "print ('dtypes:\\n%s' % (str(stations.dtypes)))"
   ]
  },
  {
   "cell_type": "code",
   "execution_count": 28,
   "metadata": {
    "collapsed": false
   },
   "outputs": [],
   "source": [
    "# Add in the geo-coordinates to the journeys data\n",
    "journeys = journeys.merge(\n",
    "    # Add lat/long of StartStationId\n",
    "    stations, \n",
    "    left_on = 'StartStationId', \n",
    "    right_on = \"id\",\n",
    "    how = 'left' # StartStationId is never null in the journeys data, but may not be known in the stations data\n",
    ").merge(\n",
    "    # Add lat/long of EndStationId\n",
    "    stations, \n",
    "    left_on = 'EndStationId', \n",
    "    right_on = \"id\",\n",
    "    how = 'left' # EndStationId is sometimes null, and also may not be known\n",
    ").drop(\n",
    "    # We don't want the extra id columns we used for the join\n",
    "    labels = [\"id_x\", \"id_y\"],\n",
    "    axis = 1\n",
    ").rename(\n",
    "    # And we want some more meaningful column names\n",
    "    columns={\n",
    "        'lat_x' :'StartLat',\n",
    "        'long_x':'StartLong',\n",
    "        'lat_y' :'EndLat',\n",
    "        'long_y':'EndLong'\n",
    "    }\n",
    ")"
   ]
  },
  {
   "cell_type": "code",
   "execution_count": 29,
   "metadata": {
    "collapsed": false
   },
   "outputs": [],
   "source": [
    "# Add distance metric. Note this has been adapted from an R script on the web.\n",
    "# For details see https://conservationecology.wordpress.com/2013/06/30/distance-between-two-points-in-r\n",
    "def haversine_distance(journey):\n",
    "    a1 = journey['StartLat'] * rad\n",
    "    a2 = journey['StartLong'] * rad\n",
    "    b1 = journey['EndLat'] * rad\n",
    "    b2 = journey['EndLong'] * rad\n",
    "    dlon = b2 - a2\n",
    "    dlat = b1 - a1\n",
    "    a = math.pow(math.sin(dlat/2),2) + math.cos(a1) * math.cos(b1) * math.pow(math.sin(dlon/2),2)\n",
    "    c = 2 * math.atan2(math.sqrt(a), math.sqrt(1 - a))\n",
    "    d = R * c\n",
    "    return d"
   ]
  },
  {
   "cell_type": "code",
   "execution_count": 30,
   "metadata": {
    "collapsed": false
   },
   "outputs": [],
   "source": [
    "journeys['Distance'] = journeys.apply(haversine_distance, axis=1)"
   ]
  },
  {
   "cell_type": "code",
   "execution_count": 43,
   "metadata": {
    "collapsed": true
   },
   "outputs": [],
   "source": [
    "# Each journey has an end location, which may not be the same as the\n",
    "# start location of the journey which follows. This would take ages to \n",
    "# derive this on the fly so I'm printing it to tape, so to speak.\n",
    "def findNextStartStation(row):\n",
    "    bikeid = row.BikeId\n",
    "    ix = row.name\n",
    "    nextix = ix+1 # Assumes journeys are sorted chronologically, and indexed sequentially.\n",
    "    if nextix < journeys.shape[0]:\n",
    "        nextrow = journeys.iloc[nextix]\n",
    "        nextbikeid = nextrow.BikeId\n",
    "        if bikeid == nextbikeid:\n",
    "            return nextrow.StartStationId\n",
    "    return np.NAN\n",
    "\n",
    "# Similar logic for gap to next journey, for a given bike.\n",
    "def findNextStartDateTime(row):\n",
    "    bikeid = row.BikeId\n",
    "    ix = row.name\n",
    "    nextix = ix+1 # Assumes journeys are sorted chronologically, and indexed sequentially.\n",
    "    if nextix < journeys.shape[0]:\n",
    "        nextrow = journeys.iloc[nextix]\n",
    "        nextbikeid = nextrow.BikeId\n",
    "        if bikeid == nextbikeid:\n",
    "            return int(nextrow.StartDateTime)\n",
    "    return np.NAN\n",
    "\n",
    "# Next RentalId also useful.\n",
    "def findNextRental(row):\n",
    "    bikeid = row.BikeId\n",
    "    ix = row.name\n",
    "    nextix = ix+1 # Assumes journeys are sorted chronologically, and indexed sequentially.\n",
    "    if nextix < journeys.shape[0]:\n",
    "        nextrow = journeys.iloc[nextix]\n",
    "        nextbikeid = nextrow.BikeId\n",
    "        if bikeid == nextbikeid:\n",
    "            return int(nextrow.RentalId)\n",
    "    return np.NAN"
   ]
  },
  {
   "cell_type": "code",
   "execution_count": 55,
   "metadata": {
    "collapsed": false
   },
   "outputs": [],
   "source": [
    "# To apply the functions above, we first need to sort by BikeId and chronologically\n",
    "journeys = journeys.sort_values(by=[\"BikeId\",\"StartDateTime\"])\n",
    "# Also we need the index to be 0,1,2,3,4 etc. \n",
    "journeys = journeys.set_index([[i for i in range(0,journeys.shape[0])]])\n",
    "# Now derive the additional columns relating to the next journey after this one\n",
    "journeys[\"NextRentalId\"] = journeys.apply(findNextRental, axis=1)\n",
    "journeys[\"NextStartStationId\"] = journeys.apply(findNextStartStation, axis=1)\n",
    "journeys[\"NextStartDateTime\"] = journeys.apply(findNextStartDateTime, axis=1)\n",
    "journeys[\"GapToNextJourney\"] = journeys.NextStartDateTime - (journeys.StartDateTime + journeys.Duration)"
   ]
  },
  {
   "cell_type": "code",
   "execution_count": 70,
   "metadata": {
    "collapsed": false
   },
   "outputs": [
    {
     "data": {
      "text/html": [
       "<div>\n",
       "<table border=\"1\" class=\"dataframe\">\n",
       "  <thead>\n",
       "    <tr style=\"text-align: right;\">\n",
       "      <th></th>\n",
       "      <th>RentalId</th>\n",
       "      <th>Duration</th>\n",
       "      <th>BikeId</th>\n",
       "      <th>EndStationId</th>\n",
       "      <th>StartDateTime</th>\n",
       "      <th>StartStationId</th>\n",
       "      <th>HourOfDay</th>\n",
       "      <th>MonthOfYear</th>\n",
       "      <th>DayOfWeek</th>\n",
       "      <th>DayOfYear</th>\n",
       "      <th>...</th>\n",
       "      <th>Season</th>\n",
       "      <th>StartLat</th>\n",
       "      <th>StartLong</th>\n",
       "      <th>EndLat</th>\n",
       "      <th>EndLong</th>\n",
       "      <th>Distance</th>\n",
       "      <th>NextStartStationId</th>\n",
       "      <th>NextStartDateTime</th>\n",
       "      <th>GapToNextJourney</th>\n",
       "      <th>NextRentalId</th>\n",
       "    </tr>\n",
       "  </thead>\n",
       "  <tbody>\n",
       "    <tr>\n",
       "      <th>705758</th>\n",
       "      <td>50608184</td>\n",
       "      <td>4440.0</td>\n",
       "      <td>1104</td>\n",
       "      <td>21.0</td>\n",
       "      <td>1451606400</td>\n",
       "      <td>98</td>\n",
       "      <td>0</td>\n",
       "      <td>1</td>\n",
       "      <td>5</td>\n",
       "      <td>1</td>\n",
       "      <td>...</td>\n",
       "      <td>1</td>\n",
       "      <td>51.525542</td>\n",
       "      <td>-0.138231</td>\n",
       "      <td>51.530078</td>\n",
       "      <td>-0.138846</td>\n",
       "      <td>0.506753</td>\n",
       "      <td>233.0</td>\n",
       "      <td>1.451819e+09</td>\n",
       "      <td>208380.0</td>\n",
       "      <td>50627904.0</td>\n",
       "    </tr>\n",
       "    <tr>\n",
       "      <th>342876</th>\n",
       "      <td>50608186</td>\n",
       "      <td>1200.0</td>\n",
       "      <td>529</td>\n",
       "      <td>118.0</td>\n",
       "      <td>1451606640</td>\n",
       "      <td>419</td>\n",
       "      <td>0</td>\n",
       "      <td>1</td>\n",
       "      <td>5</td>\n",
       "      <td>1</td>\n",
       "      <td>...</td>\n",
       "      <td>1</td>\n",
       "      <td>51.485821</td>\n",
       "      <td>-0.149004</td>\n",
       "      <td>51.495827</td>\n",
       "      <td>-0.135478</td>\n",
       "      <td>1.455894</td>\n",
       "      <td>118.0</td>\n",
       "      <td>1.451609e+09</td>\n",
       "      <td>960.0</td>\n",
       "      <td>50608716.0</td>\n",
       "    </tr>\n",
       "    <tr>\n",
       "      <th>5345001</th>\n",
       "      <td>50608187</td>\n",
       "      <td>1200.0</td>\n",
       "      <td>8452</td>\n",
       "      <td>118.0</td>\n",
       "      <td>1451606640</td>\n",
       "      <td>419</td>\n",
       "      <td>0</td>\n",
       "      <td>1</td>\n",
       "      <td>5</td>\n",
       "      <td>1</td>\n",
       "      <td>...</td>\n",
       "      <td>1</td>\n",
       "      <td>51.485821</td>\n",
       "      <td>-0.149004</td>\n",
       "      <td>51.495827</td>\n",
       "      <td>-0.135478</td>\n",
       "      <td>1.455894</td>\n",
       "      <td>118.0</td>\n",
       "      <td>1.451609e+09</td>\n",
       "      <td>960.0</td>\n",
       "      <td>50608711.0</td>\n",
       "    </tr>\n",
       "    <tr>\n",
       "      <th>5649381</th>\n",
       "      <td>50608188</td>\n",
       "      <td>1080.0</td>\n",
       "      <td>8934</td>\n",
       "      <td>251.0</td>\n",
       "      <td>1451606640</td>\n",
       "      <td>66</td>\n",
       "      <td>0</td>\n",
       "      <td>1</td>\n",
       "      <td>5</td>\n",
       "      <td>1</td>\n",
       "      <td>...</td>\n",
       "      <td>1</td>\n",
       "      <td>51.517950</td>\n",
       "      <td>-0.108657</td>\n",
       "      <td>51.518908</td>\n",
       "      <td>-0.079249</td>\n",
       "      <td>2.039912</td>\n",
       "      <td>251.0</td>\n",
       "      <td>1.451629e+09</td>\n",
       "      <td>21660.0</td>\n",
       "      <td>50610937.0</td>\n",
       "    </tr>\n",
       "    <tr>\n",
       "      <th>8556786</th>\n",
       "      <td>50608189</td>\n",
       "      <td>1080.0</td>\n",
       "      <td>13194</td>\n",
       "      <td>251.0</td>\n",
       "      <td>1451606700</td>\n",
       "      <td>66</td>\n",
       "      <td>0</td>\n",
       "      <td>1</td>\n",
       "      <td>5</td>\n",
       "      <td>1</td>\n",
       "      <td>...</td>\n",
       "      <td>1</td>\n",
       "      <td>51.517950</td>\n",
       "      <td>-0.108657</td>\n",
       "      <td>51.518908</td>\n",
       "      <td>-0.079249</td>\n",
       "      <td>2.039912</td>\n",
       "      <td>251.0</td>\n",
       "      <td>1.451670e+09</td>\n",
       "      <td>61740.0</td>\n",
       "      <td>50616667.0</td>\n",
       "    </tr>\n",
       "  </tbody>\n",
       "</table>\n",
       "<p>5 rows × 21 columns</p>\n",
       "</div>"
      ],
      "text/plain": [
       "         RentalId  Duration  BikeId  EndStationId  StartDateTime  \\\n",
       "705758   50608184    4440.0    1104          21.0     1451606400   \n",
       "342876   50608186    1200.0     529         118.0     1451606640   \n",
       "5345001  50608187    1200.0    8452         118.0     1451606640   \n",
       "5649381  50608188    1080.0    8934         251.0     1451606640   \n",
       "8556786  50608189    1080.0   13194         251.0     1451606700   \n",
       "\n",
       "         StartStationId  HourOfDay  MonthOfYear  DayOfWeek  DayOfYear  \\\n",
       "705758               98          0            1          5          1   \n",
       "342876              419          0            1          5          1   \n",
       "5345001             419          0            1          5          1   \n",
       "5649381              66          0            1          5          1   \n",
       "8556786              66          0            1          5          1   \n",
       "\n",
       "             ...       Season   StartLat  StartLong     EndLat   EndLong  \\\n",
       "705758       ...            1  51.525542  -0.138231  51.530078 -0.138846   \n",
       "342876       ...            1  51.485821  -0.149004  51.495827 -0.135478   \n",
       "5345001      ...            1  51.485821  -0.149004  51.495827 -0.135478   \n",
       "5649381      ...            1  51.517950  -0.108657  51.518908 -0.079249   \n",
       "8556786      ...            1  51.517950  -0.108657  51.518908 -0.079249   \n",
       "\n",
       "         Distance  NextStartStationId  NextStartDateTime  GapToNextJourney  \\\n",
       "705758   0.506753               233.0       1.451819e+09          208380.0   \n",
       "342876   1.455894               118.0       1.451609e+09             960.0   \n",
       "5345001  1.455894               118.0       1.451609e+09             960.0   \n",
       "5649381  2.039912               251.0       1.451629e+09           21660.0   \n",
       "8556786  2.039912               251.0       1.451670e+09           61740.0   \n",
       "\n",
       "         NextRentalId  \n",
       "705758     50627904.0  \n",
       "342876     50608716.0  \n",
       "5345001    50608711.0  \n",
       "5649381    50610937.0  \n",
       "8556786    50616667.0  \n",
       "\n",
       "[5 rows x 21 columns]"
      ]
     },
     "execution_count": 70,
     "metadata": {},
     "output_type": "execute_result"
    }
   ],
   "source": [
    "# Take a peek for sanity\n",
    "journeys = journeys.sort_values(by=\"RentalId\")\n",
    "journeys.head()"
   ]
  },
  {
   "cell_type": "code",
   "execution_count": 71,
   "metadata": {
    "collapsed": true
   },
   "outputs": [],
   "source": [
    "# Write out the data frame as we don't want to have to repeat this. \n",
    "journeys.to_csv(\"D:\\\\cyclehire\\\\JourneyData2016.frame.csv\")"
   ]
  },
  {
   "cell_type": "code",
   "execution_count": null,
   "metadata": {
    "collapsed": true
   },
   "outputs": [],
   "source": []
  }
 ],
 "metadata": {
  "kernelspec": {
   "display_name": "Python 2",
   "language": "python",
   "name": "python2"
  },
  "language_info": {
   "codemirror_mode": {
    "name": "ipython",
    "version": 2
   },
   "file_extension": ".py",
   "mimetype": "text/x-python",
   "name": "python",
   "nbconvert_exporter": "python",
   "pygments_lexer": "ipython2",
   "version": "2.7.11"
  }
 },
 "nbformat": 4,
 "nbformat_minor": 0
}
